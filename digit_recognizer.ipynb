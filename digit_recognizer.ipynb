{
  "cells": [
    {
      "cell_type": "code",
      "execution_count": 1,
      "metadata": {
        "id": "XYh1UU9jAoU_"
      },
      "outputs": [],
      "source": [
        "import pandas as pd\n",
        "import numpy as np\n",
        "import matplotlib.pyplot as plt\n",
        "import pickle"
      ]
    },
    {
      "cell_type": "code",
      "execution_count": 2,
      "metadata": {
        "id": "HseArtX4zVWk"
      },
      "outputs": [],
      "source": [
        "data = pd.read_csv('https://raw.githubusercontent.com/prathameshks/ML-From-Scratch/main/MNIST_DATA/train.csv')"
      ]
    },
    {
      "cell_type": "code",
      "execution_count": 3,
      "metadata": {
        "colab": {
          "base_uri": "https://localhost:8080/"
        },
        "id": "vUvwmY73zVWk",
        "outputId": "b53a211b-bca4-4889-c13f-1a0a2419a80d"
      },
      "outputs": [],
      "source": [
        "data = np.array(data)\n",
        "m, n = data.shape\n",
        "np.random.shuffle(data) # shuffle before splitting into test and training sets\n",
        "\n",
        "data_test = data[0:1000].T\n",
        "Y_test = data_test[0]\n",
        "X_test = data_test[1:n]\n",
        "X_test = X_test / 255.\n",
        "\n",
        "data_train = data[1000:m].T\n",
        "Y_train = data_train[0]\n",
        "X_train = data_train[1:n]\n",
        "X_train = X_train / 255.\n",
        "_,m_train = X_train.shape"
      ]
    },
    {
      "cell_type": "code",
      "execution_count": 4,
      "metadata": {
        "colab": {
          "base_uri": "https://localhost:8080/",
          "height": 255
        },
        "id": "xVpYJDhbzVWm",
        "outputId": "ed09bc9a-de29-477e-cde8-a1eacc59f5e7"
      },
      "outputs": [
        {
          "ename": "AttributeError",
          "evalue": "'numpy.ndarray' object has no attribute 'head'",
          "output_type": "error",
          "traceback": [
            "\u001b[1;31m---------------------------------------------------------------------------\u001b[0m",
            "\u001b[1;31mAttributeError\u001b[0m                            Traceback (most recent call last)",
            "Cell \u001b[1;32mIn[4], line 1\u001b[0m\n\u001b[1;32m----> 1\u001b[0m \u001b[43mX_train\u001b[49m\u001b[38;5;241;43m.\u001b[39;49m\u001b[43mhead\u001b[49m()\n",
            "\u001b[1;31mAttributeError\u001b[0m: 'numpy.ndarray' object has no attribute 'head'"
          ]
        }
      ],
      "source": [
        "X_train.head()"
      ]
    },
    {
      "cell_type": "code",
      "execution_count": null,
      "metadata": {},
      "outputs": [],
      "source": [
        "Y_train.head()"
      ]
    },
    {
      "cell_type": "code",
      "execution_count": null,
      "metadata": {
        "colab": {
          "base_uri": "https://localhost:8080/"
        },
        "id": "Bv8JLIOhzVWn",
        "outputId": "107ed409-aac7-477b-d325-441b37b98475"
      },
      "outputs": [
        {
          "name": "stdout",
          "output_type": "stream",
          "text": [
            "X_train.shape = (784, 42000)\n",
            "X_test.shape = (783, 28000)\n",
            "Y_train.shape = (42000,)\n",
            "Y_test.shape = (28000,)\n"
          ]
        }
      ],
      "source": [
        "print(f\"{X_train.shape = }\")\n",
        "print(f\"{X_test.shape = }\")\n",
        "print(f\"{Y_train.shape = }\")\n",
        "print(f\"{Y_test.shape = }\")"
      ]
    },
    {
      "cell_type": "code",
      "execution_count": 13,
      "metadata": {
        "id": "ssN6456HzVWn"
      },
      "outputs": [],
      "source": [
        "class NeuralNetwork:\n",
        "    def __init__(self):\n",
        "        pass\n",
        "\n",
        "    def init_params(self):\n",
        "        self.w1 = np.random.rand(10, 784) - 0.5\n",
        "        self.b1 = np.random.rand(10, 1) - 0.5\n",
        "        self.w2 = np.random.rand(10, 10) - 0.5\n",
        "        self.b2 = np.random.rand(10, 1) - 0.5\n",
        "        return self.w1, self.b1, self.w2, self.b2\n",
        "\n",
        "    def ReLU(self, x):\n",
        "        return np.maximum(0, x)\n",
        "\n",
        "    def softMax(self, x):\n",
        "        return np.exp(x) / np.sum(np.exp(x))\n",
        "\n",
        "    def forward_prop(self, X):\n",
        "        z1 = self.w1.dot(X) + self.b1\n",
        "        a1 = self.ReLU(z1)\n",
        "        z2 = self.w2.dot(a1) + self.b2\n",
        "        a2 = self.softMax(z2)\n",
        "\n",
        "        return z1,a1,z2,a2\n",
        "\n",
        "    def one_hot(self,y):\n",
        "        one_hot_y = np.zeros((y.size , y.max() + 1))\n",
        "        one_hot_y[np.arange(y.size) , y] = 1\n",
        "        one_hot_y = one_hot_y.T\n",
        "        return one_hot_y\n",
        "\n",
        "    def deriv_ReLU(self,x):\n",
        "        return x>0\n",
        "\n",
        "    def back_prop(self, z1, a1, z2, a2,x, y):\n",
        "        one_hot_y = self.one_hot(y)\n",
        "        dz2 = a2-one_hot_y\n",
        "        dw2 = 1/ m * dz2.dot(a1.T)\n",
        "        db2 = 1 / m * np.sum(dz2)\n",
        "\n",
        "        dz1 = self.w2.T.dot(dz2) * self.deriv_ReLU(z1)\n",
        "        dw1 = 1 / m * dz1.dot(x.T)\n",
        "        db1 = 1 / m * np.sum(dz1)\n",
        "\n",
        "        return dw1,db1,dw2,db2\n",
        "\n",
        "    def update_params(self, dw1,db1,dw2,db2,alpha):\n",
        "        self.w1 = self.w1 - alpha*dw1\n",
        "        self.b1 = self.b1 - alpha*db1\n",
        "        self.w2 = self.w2 - alpha*dw2\n",
        "        self.b2 = self.b2 - alpha*db2\n",
        "\n",
        "    def get_predictions(self, a2):\n",
        "        return np.argmax(a2, 0)\n",
        "\n",
        "    def get_accuracy(self, predictions, y):\n",
        "        print(predictions, y)\n",
        "        return np.sum(predictions == y) / y.size\n",
        "\n",
        "    def gradient_decent(self,x,y,iterations,alpha):\n",
        "        self.init_params()\n",
        "        for i in range(iterations):\n",
        "            z1,a1,z2,a2 = self.forward_prop(x)\n",
        "            dw1,db1,dw2,db2 = self.back_prop(z1,a1,z2,a2,x,y)\n",
        "            self.update_params(dw1,db1,dw2,db2,alpha)\n",
        "            if(i % 50 == 0):\n",
        "                print(\"Iteration: \",i)\n",
        "                predictions = self.get_predictions(a2)\n",
        "                print(\"Accuracy: \",self.get_accuracy(predictions,y))\n",
        "    \n",
        "\n",
        "    def make_predictions(self,x):\n",
        "        _,_,_,a2 = self.forward_prop(x)\n",
        "        predictions = self.get_predictions(a2)\n",
        "        return predictions\n",
        "\n",
        "    def show_training_predictions(self,index,x,y):\n",
        "        cur_img = x[:,index,None]\n",
        "        prediction = self.make_predictions(cur_img)\n",
        "        print(\"Prediction: \", prediction)\n",
        "        print(\"Label: \", y[index])\n",
        "        cur_img = cur_img.reshape((28,28))\n",
        "        plt.imshow(cur_img, cmap='gray')\n",
        "        plt.show()\n",
        "\n",
        "    def save(self,file):\n",
        "        np.savez(file, w1=self.w1, b1=self.b1, w2=self.w2, b2=self.b2)\n",
        "        \n",
        "    def load(self,file):\n",
        "        npz = np.load(file)\n",
        "        self.w1 = npz['w1']\n",
        "        self.b1 = npz['b1']\n",
        "        self.w2 = npz['w2']\n",
        "        self.b2 = npz['b2']"
      ]
    },
    {
      "cell_type": "code",
      "execution_count": 15,
      "metadata": {
        "id": "GVackV-p1ieR"
      },
      "outputs": [],
      "source": [
        "# get testing accuracy\n",
        "\n",
        "def get_accuracy(predictions, y):\n",
        "    print(predictions, y)\n",
        "    return np.sum(predictions == y) / y.size\n"
      ]
    },
    {
      "cell_type": "code",
      "execution_count": 14,
      "metadata": {
        "colab": {
          "base_uri": "https://localhost:8080/"
        },
        "id": "MFG9F7LYzVWo",
        "outputId": "b68a8bba-a9e8-4729-bb8b-374e87e7dd6a"
      },
      "outputs": [
        {
          "name": "stderr",
          "output_type": "stream",
          "text": [
            "<ipython-input-13-3c63550f4d24>:16: RuntimeWarning: overflow encountered in exp\n",
            "  return np.exp(x) / np.sum(np.exp(x))\n",
            "<ipython-input-13-3c63550f4d24>:16: RuntimeWarning: invalid value encountered in divide\n",
            "  return np.exp(x) / np.sum(np.exp(x))\n"
          ]
        },
        {
          "name": "stdout",
          "output_type": "stream",
          "text": [
            "Iteration:  0\n",
            "[0 5 0 ... 5 0 0] [1 0 1 ... 7 6 9]\n",
            "Accuracy:  0.07859523809523809\n",
            "Iteration:  50\n",
            "[0 0 0 ... 0 0 0] [1 0 1 ... 7 6 9]\n",
            "Accuracy:  0.09838095238095237\n",
            "Iteration:  100\n",
            "[0 0 0 ... 0 0 0] [1 0 1 ... 7 6 9]\n",
            "Accuracy:  0.09838095238095237\n",
            "Iteration:  150\n",
            "[0 0 0 ... 0 0 0] [1 0 1 ... 7 6 9]\n",
            "Accuracy:  0.09838095238095237\n",
            "Iteration:  200\n",
            "[0 0 0 ... 0 0 0] [1 0 1 ... 7 6 9]\n",
            "Accuracy:  0.09838095238095237\n",
            "Iteration:  250\n",
            "[0 0 0 ... 0 0 0] [1 0 1 ... 7 6 9]\n",
            "Accuracy:  0.09838095238095237\n",
            "Iteration:  300\n",
            "[0 0 0 ... 0 0 0] [1 0 1 ... 7 6 9]\n",
            "Accuracy:  0.09838095238095237\n",
            "Iteration:  350\n",
            "[0 0 0 ... 0 0 0] [1 0 1 ... 7 6 9]\n",
            "Accuracy:  0.09838095238095237\n",
            "Iteration:  400\n",
            "[0 0 0 ... 0 0 0] [1 0 1 ... 7 6 9]\n",
            "Accuracy:  0.09838095238095237\n",
            "Iteration:  450\n",
            "[0 0 0 ... 0 0 0] [1 0 1 ... 7 6 9]\n",
            "Accuracy:  0.09838095238095237\n",
            "Iteration:  500\n",
            "[0 0 0 ... 0 0 0] [1 0 1 ... 7 6 9]\n",
            "Accuracy:  0.09838095238095237\n",
            "Iteration:  550\n",
            "[0 0 0 ... 0 0 0] [1 0 1 ... 7 6 9]\n",
            "Accuracy:  0.09838095238095237\n",
            "Iteration:  600\n",
            "[0 0 0 ... 0 0 0] [1 0 1 ... 7 6 9]\n",
            "Accuracy:  0.09838095238095237\n",
            "Iteration:  650\n",
            "[0 0 0 ... 0 0 0] [1 0 1 ... 7 6 9]\n",
            "Accuracy:  0.09838095238095237\n",
            "Iteration:  700\n",
            "[0 0 0 ... 0 0 0] [1 0 1 ... 7 6 9]\n",
            "Accuracy:  0.09838095238095237\n",
            "Iteration:  750\n",
            "[0 0 0 ... 0 0 0] [1 0 1 ... 7 6 9]\n",
            "Accuracy:  0.09838095238095237\n",
            "Iteration:  800\n",
            "[0 0 0 ... 0 0 0] [1 0 1 ... 7 6 9]\n",
            "Accuracy:  0.09838095238095237\n",
            "Iteration:  850\n",
            "[0 0 0 ... 0 0 0] [1 0 1 ... 7 6 9]\n",
            "Accuracy:  0.09838095238095237\n",
            "Iteration:  900\n",
            "[0 0 0 ... 0 0 0] [1 0 1 ... 7 6 9]\n",
            "Accuracy:  0.09838095238095237\n",
            "Iteration:  950\n",
            "[0 0 0 ... 0 0 0] [1 0 1 ... 7 6 9]\n",
            "Accuracy:  0.09838095238095237\n"
          ]
        }
      ],
      "source": [
        "model = NeuralNetwork()\n",
        "model.gradient_decent(X_train, Y_train, 1000, 0.01)\n"
      ]
    },
    {
      "cell_type": "code",
      "execution_count": 21,
      "metadata": {
        "colab": {
          "base_uri": "https://localhost:8080/"
        },
        "id": "vRNl6bdK1udN",
        "outputId": "a1c496b3-4f46-4aa6-e205-169995672d0a"
      },
      "outputs": [
        {
          "name": "stdout",
          "output_type": "stream",
          "text": [
            "[0 0 0 ... 0 0 0] [1 0 1 ... 7 6 9]\n",
            "Accuracy:  0.09838095238095237\n"
          ]
        }
      ],
      "source": [
        "# test accuracy\n",
        "predictions = model.make_predictions(X_train)\n",
        "print(\"Accuracy: \",get_accuracy(predictions,Y_train))"
      ]
    },
    {
      "cell_type": "code",
      "execution_count": 12,
      "metadata": {
        "colab": {
          "base_uri": "https://localhost:8080/",
          "height": 465
        },
        "id": "kJlvXRXFzVWp",
        "outputId": "032e8149-0b98-4783-ce88-2380c05890dc"
      },
      "outputs": [
        {
          "name": "stdout",
          "output_type": "stream",
          "text": [
            "Prediction:  [0]\n",
            "Label:  7\n"
          ]
        },
        {
          "data": {
            "image/png": "[encoded data removed]",
            "text/plain": [
              "<Figure size 640x480 with 1 Axes>"
            ]
          },
          "metadata": {},
          "output_type": "display_data"
        }
      ],
      "source": [
        "model.show_training_predictions(103,X_train,Y_train)"
      ]
    }
  ],
  "metadata": {
    "colab": {
      "provenance": []
    },
    "kernelspec": {
      "display_name": "Python 3",
      "name": "python3"
    },
    "language_info": {
      "codemirror_mode": {
        "name": "ipython",
        "version": 3
      },
      "file_extension": ".py",
      "mimetype": "text/x-python",
      "name": "python",
      "nbconvert_exporter": "python",
      "pygments_lexer": "ipython3",
      "version": "3.10.11"
    }
  },
  "nbformat": 4,
  "nbformat_minor": 0
}
