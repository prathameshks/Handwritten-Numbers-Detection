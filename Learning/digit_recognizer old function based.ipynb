{
  "cells": [
    {
      "cell_type": "code",
      "execution_count": 21,
      "metadata": {
        "id": "XYh1UU9jAoU_"
      },
      "outputs": [],
      "source": [
        "import pandas as pd\n",
        "import numpy as np\n",
        "import matplotlib.pyplot as plt\n",
        "import pickle"
      ]
    },
    {
      "cell_type": "code",
      "execution_count": 22,
      "metadata": {
        "id": "HseArtX4zVWk"
      },
      "outputs": [],
      "source": [
        "data = pd.read_csv('https://raw.githubusercontent.com/prathameshks/ML-From-Scratch/main/MNIST_DATA/train.csv')"
      ]
    },
    {
      "cell_type": "code",
      "execution_count": 23,
      "metadata": {
        "colab": {
          "base_uri": "https://localhost:8080/"
        },
        "id": "vUvwmY73zVWk",
        "outputId": "b53a211b-bca4-4889-c13f-1a0a2419a80d"
      },
      "outputs": [],
      "source": [
        "data = np.array(data)\n",
        "m, n = data.shape\n",
        "np.random.shuffle(data) # shuffle before splitting into test and training sets\n",
        "\n",
        "data_test = data[0:1000].T\n",
        "Y_test = data_test[0]\n",
        "X_test = data_test[1:n]\n",
        "X_test = X_test / 255.\n",
        "\n",
        "data_train = data[1000:m].T\n",
        "Y_train = data_train[0]\n",
        "X_train = data_train[1:n]\n",
        "X_train = X_train / 255.\n",
        "_,m_train = X_train.shape"
      ]
    },
    {
      "cell_type": "code",
      "execution_count": 24,
      "metadata": {
        "colab": {
          "base_uri": "https://localhost:8080/"
        },
        "id": "Bv8JLIOhzVWn",
        "outputId": "107ed409-aac7-477b-d325-441b37b98475"
      },
      "outputs": [
        {
          "name": "stdout",
          "output_type": "stream",
          "text": [
            "X_train.shape = (784, 41000)\n",
            "X_test.shape = (784, 1000)\n",
            "Y_train.shape = (41000,)\n",
            "Y_test.shape = (1000,)\n"
          ]
        }
      ],
      "source": [
        "print(f\"{X_train.shape = }\")\n",
        "print(f\"{X_test.shape = }\")\n",
        "print(f\"{Y_train.shape = }\")\n",
        "print(f\"{Y_test.shape = }\")"
      ]
    },
    {
      "cell_type": "code",
      "execution_count": 40,
      "metadata": {
        "id": "ssN6456HzVWn"
      },
      "outputs": [],
      "source": [
        "\n",
        "def init_params():\n",
        "    w1 = np.random.rand(10, 784) - 0.5\n",
        "    b1 = np.random.rand(10, 1) - 0.5\n",
        "    w2 = np.random.rand(10, 10) - 0.5\n",
        "    b2 = np.random.rand(10, 1) - 0.5\n",
        "    return w1, b1, w2, b2\n",
        "\n",
        "def ReLU(x):\n",
        "    return np.maximum(0, x)\n",
        "\n",
        "def softMax(x):\n",
        "    exp_x = np.exp(np.maximum(x, -60))  # Clip values to prevent overflow\n",
        "    sum_exp_x = np.sum(exp_x, axis=0)\n",
        "    return exp_x / sum_exp_x\n",
        "\n",
        "def forward_prop(w1,b1,w2,b2, X):\n",
        "    z1 = w1.dot(X) + b1\n",
        "    a1 = ReLU(z1)\n",
        "    z2 = w2.dot(a1) + b2\n",
        "    a2 = softMax(z2)\n",
        "    return z1,a1,z2,a2\n",
        "\n",
        "def one_hot(y):\n",
        "    one_hot_y = np.zeros((y.size , y.max() + 1))\n",
        "    one_hot_y[np.arange(y.size) , y] = 1\n",
        "    one_hot_y = one_hot_y.T\n",
        "    return one_hot_y\n",
        "\n",
        "def deriv_ReLU(x):\n",
        "    return x>0\n",
        "\n",
        "def back_prop(w2, z1, a1, z2, a2,x, y):\n",
        "    one_hot_y = one_hot(y)\n",
        "    dz2 = a2-one_hot_y\n",
        "    dw2 = 1/ m * dz2.dot(a1.T)\n",
        "    db2 = 1 / m * np.sum(dz2)\n",
        "\n",
        "    dz1 = w2.T.dot(dz2) * deriv_ReLU(z1)\n",
        "    dw1 = 1 / m * dz1.dot(x.T)\n",
        "    db1 = 1 / m * np.sum(dz1)\n",
        "\n",
        "    return dw1,db1,dw2,db2\n",
        "    \n",
        "def update_params(w1,b1,w2,b2,dw1,db1,dw2,db2,alpha):\n",
        "    w1 = w1 - alpha*dw1\n",
        "    b1 = b1 - alpha*db1\n",
        "    w2 = w2 - alpha*dw2\n",
        "    b2 = b2 - alpha*db2\n",
        "    return w1,b1,w2,b2\n",
        "\n",
        "\n",
        "def get_predictions(a2):\n",
        "    return np.argmax(a2, 0)\n",
        "\n",
        "def get_accuracy(predictions, y):\n",
        "    print(predictions, y)\n",
        "    return np.sum(predictions == y) / y.size\n",
        "\n",
        "def gradient_decent(x,y,iterations,alpha):\n",
        "    w1,b1,w2,b2 = init_params()\n",
        "    for i in range(iterations):\n",
        "        z1,a1,z2,a2 = forward_prop(w1,b1,w2,b2,x)\n",
        "        dw1,db1,dw2,db2 = back_prop(w2,z1,a1,z2,a2,x,y)\n",
        "        w1,b1,w2,b2 = update_params(w1,b1,w2,b2,dw1,db1,dw2,db2,alpha)\n",
        "        if(i % 50 == 0):\n",
        "            print(\"Iteration: \",i)\n",
        "            predictions = get_predictions(a2)\n",
        "            print(\"Accuracy: \",get_accuracy(predictions,y))\n",
        "            \n",
        "    return w1,b1,w2,b2\n",
        "\n",
        "\n",
        "def make_predictions(x,w1,b1,w2,b2):\n",
        "    _,_,_,a2 = forward_prop(w1,b1,w2,b2,x)\n",
        "    predictions = get_predictions(a2)\n",
        "    return predictions\n",
        "\n",
        "def show_training_predictions(index,x,y,w1,b1,w2,b2):\n",
        "    cur_img = x[:,index,None]\n",
        "    prediction = make_predictions(cur_img,w1,b1,w2,b2)\n",
        "    print(\"Prediction: \", prediction)\n",
        "    print(\"Label: \", y[index])\n",
        "    cur_img = cur_img.reshape((28,28))\n",
        "    plt.imshow(cur_img, cmap='gray')\n",
        "    plt.show()\n",
        "\n",
        "def save(file,w1,b1,w2,b2):\n",
        "    np.savez(file, w1=w1, b1=b1, w2=w2, b2=b2)\n",
        "    \n",
        "def load(file):\n",
        "    npz = np.load(file)\n",
        "    w1 = npz['w1']\n",
        "    b1 = npz['b1']\n",
        "    w2 = npz['w2']\n",
        "    b2 = npz['b2']\n",
        "    return w1,b1,w2,b2"
      ]
    },
    {
      "cell_type": "code",
      "execution_count": 26,
      "metadata": {
        "id": "GVackV-p1ieR"
      },
      "outputs": [],
      "source": [
        "# get testing accuracy\n",
        "\n",
        "def get_accuracy(predictions, y):\n",
        "    print(predictions, y)\n",
        "    return np.sum(predictions == y) / y.size\n"
      ]
    },
    {
      "cell_type": "code",
      "execution_count": 27,
      "metadata": {
        "colab": {
          "base_uri": "https://localhost:8080/"
        },
        "id": "MFG9F7LYzVWo",
        "outputId": "b68a8bba-a9e8-4729-bb8b-374e87e7dd6a"
      },
      "outputs": [
        {
          "name": "stdout",
          "output_type": "stream",
          "text": [
            "Iteration:  0\n",
            "[0 0 0 ... 7 7 0] [3 9 0 ... 7 7 0]\n",
            "Accuracy:  0.16114634146341464\n",
            "Iteration:  50\n",
            "[4 7 0 ... 7 7 3] [3 9 0 ... 7 7 0]\n",
            "Accuracy:  0.2343658536585366\n",
            "Iteration:  100\n",
            "[4 7 3 ... 7 7 3] [3 9 0 ... 7 7 0]\n",
            "Accuracy:  0.26663414634146343\n",
            "Iteration:  150\n",
            "[4 7 3 ... 7 7 3] [3 9 0 ... 7 7 0]\n",
            "Accuracy:  0.28046341463414637\n",
            "Iteration:  200\n",
            "[4 7 3 ... 7 7 3] [3 9 0 ... 7 7 0]\n",
            "Accuracy:  0.2919024390243902\n",
            "Iteration:  250\n",
            "[4 7 3 ... 7 7 3] [3 9 0 ... 7 7 0]\n",
            "Accuracy:  0.30404878048780487\n",
            "Iteration:  300\n",
            "[4 7 3 ... 7 7 3] [3 9 0 ... 7 7 0]\n",
            "Accuracy:  0.31558536585365854\n",
            "Iteration:  350\n",
            "[4 7 3 ... 7 7 3] [3 9 0 ... 7 7 0]\n",
            "Accuracy:  0.3265609756097561\n",
            "Iteration:  400\n",
            "[4 7 3 ... 7 7 3] [3 9 0 ... 7 7 0]\n",
            "Accuracy:  0.33778048780487807\n",
            "Iteration:  450\n",
            "[4 7 3 ... 7 7 3] [3 9 0 ... 7 7 0]\n",
            "Accuracy:  0.3602439024390244\n",
            "Iteration:  500\n",
            "[4 7 3 ... 7 7 3] [3 9 0 ... 7 7 0]\n",
            "Accuracy:  0.38497560975609757\n",
            "Iteration:  550\n",
            "[8 7 3 ... 7 7 5] [3 9 0 ... 7 7 0]\n",
            "Accuracy:  0.40968292682926827\n",
            "Iteration:  600\n",
            "[8 7 3 ... 7 7 5] [3 9 0 ... 7 7 0]\n",
            "Accuracy:  0.43353658536585366\n",
            "Iteration:  650\n",
            "[8 7 5 ... 7 7 5] [3 9 0 ... 7 7 0]\n",
            "Accuracy:  0.45334146341463416\n",
            "Iteration:  700\n",
            "[8 7 5 ... 7 7 5] [3 9 0 ... 7 7 0]\n",
            "Accuracy:  0.47229268292682924\n",
            "Iteration:  750\n",
            "[8 7 5 ... 7 7 5] [3 9 0 ... 7 7 0]\n",
            "Accuracy:  0.48985365853658536\n",
            "Iteration:  800\n",
            "[8 7 5 ... 7 7 5] [3 9 0 ... 7 7 0]\n",
            "Accuracy:  0.5090487804878049\n",
            "Iteration:  850\n",
            "[8 7 5 ... 7 7 5] [3 9 0 ... 7 7 0]\n",
            "Accuracy:  0.5288780487804878\n",
            "Iteration:  900\n",
            "[8 7 5 ... 7 7 5] [3 9 0 ... 7 7 0]\n",
            "Accuracy:  0.5475365853658537\n",
            "Iteration:  950\n",
            "[8 7 5 ... 7 7 5] [3 9 0 ... 7 7 0]\n",
            "Accuracy:  0.5667073170731707\n"
          ]
        }
      ],
      "source": [
        "\n",
        "model = gradient_decent(X_train, Y_train, 1000, 0.01)\n"
      ]
    },
    {
      "cell_type": "code",
      "execution_count": 30,
      "metadata": {},
      "outputs": [],
      "source": [
        "w1,b1,w2,b2 = model"
      ]
    },
    {
      "cell_type": "code",
      "execution_count": 31,
      "metadata": {},
      "outputs": [],
      "source": [
        "save('model.npz',w1,b1,w2,b2)"
      ]
    },
    {
      "cell_type": "code",
      "execution_count": null,
      "metadata": {},
      "outputs": [],
      "source": [
        "\n",
        "w1,b1,w2,b2 = load('model.npz')"
      ]
    },
    {
      "cell_type": "code",
      "execution_count": 38,
      "metadata": {
        "colab": {
          "base_uri": "https://localhost:8080/"
        },
        "id": "vRNl6bdK1udN",
        "outputId": "a1c496b3-4f46-4aa6-e205-169995672d0a"
      },
      "outputs": [
        {
          "name": "stdout",
          "output_type": "stream",
          "text": [
            "[3 1 8 7 0 5 8 1 3 0 3 7 7 3 2 6 4 3 6 7 1 2 3 7 1 0 0 7 8 2 1 1 2 0 3 4 7\n",
            " 7 9 5 4 4 1 3 6 2 0 7 4 2 0 0 8 9 2 5 7 6 3 5 9 0 9 4 9 3 3 7 1 2 9 0 1 9\n",
            " 5 3 7 8 7 7 4 1 4 6 1 7 9 7 1 6 1 1 7 2 3 9 5 7 2 7 5 2 1 2 5 8 6 7 4 9 0\n",
            " 1 8 7 1 7 4 5 2 3 3 1 1 0 0 0 8 7 5 6 4 4 6 7 6 8 5 7 3 4 0 7 4 3 5 4 0 1\n",
            " 1 3 4 1 6 2 5 7 3 3 0 5 2 2 3 9 7 8 0 3 1 1 2 0 2 0 0 4 3 8 4 0 8 4 7 3 1\n",
            " 2 7 7 7 4 1 6 9 9 3 2 5 0 7 4 6 6 9 6 9 7 0 7 7 7 0 7 7 5 7 2 0 0 9 0 4 7\n",
            " 6 2 8 3 0 6 8 2 4 7 1 8 2 3 5 2 4 7 3 9 5 0 7 0 1 7 0 3 1 9 2 0 5 2 3 0 4\n",
            " 7 2 9 0 5 4 7 3 3 4 4 7 8 7 3 8 3 7 8 9 4 9 7 4 7 2 1 8 4 6 9 0 3 7 2 3 8\n",
            " 5 0 1 8 7 8 0 1 2 6 5 7 2 7 6 3 7 5 0 8 2 7 1 9 3 9 2 2 2 9 2 4 1 1 9 4 8\n",
            " 7 2 1 0 7 8 1 7 2 1 9 2 9 4 3 2 4 7 7 1 1 6 0 3 0 0 2 8 5 5 0 0 6 4 3 9 0\n",
            " 0 0 2 9 1 4 7 6 8 1 2 5 1 9 0 7 7 1 1 0 3 8 7 9 7 1 3 0 0 4 0 3 8 8 3 7 2\n",
            " 3 5 7 8 7 1 3 7 4 2 4 7 4 4 2 3 5 0 3 6 6 1 8 2 3 4 5 1 1 6 6 2 4 0 7 0 7\n",
            " 3 2 3 1 7 7 0 9 8 4 5 3 6 5 3 1 8 7 3 2 4 7 8 1 3 3 9 7 4 0 0 1 8 0 3 6 3\n",
            " 0 1 8 2 3 0 4 3 7 8 4 3 7 8 1 0 4 4 7 8 7 2 1 6 3 7 1 3 5 3 0 5 1 1 4 5 8\n",
            " 0 3 2 2 5 1 1 9 1 7 7 5 6 0 7 7 1 8 7 5 1 4 3 1 7 2 9 4 7 3 5 3 7 3 3 0 7\n",
            " 8 2 5 3 5 0 0 7 4 5 4 1 8 7 0 0 4 8 7 9 9 0 8 7 0 3 7 4 4 5 4 1 8 0 9 4 2\n",
            " 1 0 5 1 1 2 1 7 0 2 8 1 8 7 5 3 3 2 3 1 7 7 4 1 9 0 7 0 1 3 1 7 2 0 2 2 1\n",
            " 3 6 8 1 7 3 8 4 6 3 1 0 7 7 3 4 3 5 5 8 7 8 2 0 2 6 3 7 9 0 3 0 3 7 9 9 4\n",
            " 7 1 6 0 8 4 9 0 6 0 3 9 6 7 8 2 4 5 0 7 0 1 0 3 7 3 7 2 1 1 1 0 2 9 3 2 0\n",
            " 0 1 3 3 2 7 7 2 0 4 9 0 2 5 7 2 8 1 8 3 5 5 7 6 7 2 3 0 7 4 8 0 6 7 3 7 8\n",
            " 7 1 7 2 2 3 4 0 8 3 7 6 7 9 3 4 2 3 7 9 1 7 4 1 4 0 1 3 8 2 5 5 7 2 0 0 1\n",
            " 3 4 0 7 4 9 1 8 4 3 1 0 0 4 2 1 8 7 3 2 6 4 7 3 0 8 5 1 0 7 5 4 9 4 3 7 9\n",
            " 8 7 2 5 0 0 7 1 1 2 3 0 4 2 8 2 3 4 3 1 4 8 2 4 4 1 0 2 5 5 9 4 5 8 7 4 3\n",
            " 0 9 6 9 8 6 1 1 7 1 2 3 4 3 1 1 7 9 2 6 6 0 3 4 4 7 2 0 0 2 8 1 1 8 0 3 7\n",
            " 1 2 7 1 0 1 0 7 1 2 4 2 4 5 2 5 3 3 0 8 2 4 1 1 3 1 9 3 6 7 0 0 9 0 8 4 6\n",
            " 0 3 2 2 1 3 0 7 5 7 2 8 4 2 1 5 2 2 3 7 2 2 3 1 6 1 4 8 0 1 7 3 1 3 2 2 6\n",
            " 3 4 4 3 3 3 6 9 4 2 7 0 0 0 0 3 4 1 0 0 7 0 1 2 4 5 7 0 1 0 9 3 0 0 6 4 3\n",
            " 1] [6 1 8 7 0 5 1 1 4 0 3 6 7 3 4 0 4 3 6 4 1 3 6 7 1 0 0 7 3 2 1 1 2 0 3 4 8\n",
            " 7 7 5 9 4 1 3 6 2 0 7 2 2 2 0 8 9 2 6 7 5 3 0 9 0 9 9 4 3 3 9 2 3 8 0 1 9\n",
            " 5 8 7 7 7 7 4 1 2 3 1 7 9 4 8 6 1 1 7 2 3 9 3 7 2 7 2 6 1 6 5 8 6 7 9 5 0\n",
            " 1 5 9 1 7 4 4 2 2 3 1 1 0 0 0 1 5 5 3 4 2 3 8 6 7 5 7 5 2 0 9 4 6 5 4 5 1\n",
            " 1 3 4 6 6 6 5 7 8 3 0 9 2 6 3 9 7 2 0 3 2 1 2 0 2 5 5 4 5 3 4 0 8 8 7 3 4\n",
            " 6 4 9 7 4 1 6 4 4 3 2 5 0 9 4 6 3 9 0 6 7 0 9 5 1 5 7 7 5 7 2 0 0 3 0 4 7\n",
            " 6 6 5 6 0 6 8 6 2 7 8 7 3 3 9 1 4 7 3 7 5 6 9 6 8 7 0 3 1 5 6 9 6 1 3 0 7\n",
            " 7 2 9 0 5 9 4 6 3 4 4 5 8 1 8 4 8 7 1 9 4 9 9 4 7 6 1 7 4 6 9 4 3 7 2 5 3\n",
            " 9 0 1 8 7 5 0 1 2 5 5 9 2 5 2 3 5 6 0 8 6 7 1 9 3 7 2 2 1 9 2 4 1 6 0 4 2\n",
            " 4 2 1 0 9 3 1 5 6 1 4 5 1 4 3 2 4 5 7 1 1 5 6 3 5 6 6 8 5 5 6 0 3 4 3 3 0\n",
            " 0 0 2 9 1 4 7 6 8 8 2 5 2 5 0 1 9 1 1 2 5 8 9 7 7 1 5 0 0 9 0 4 7 8 8 5 2\n",
            " 8 4 7 3 7 1 3 7 4 8 9 9 9 4 2 3 0 6 6 2 6 1 0 2 6 6 0 1 1 6 6 6 4 0 7 2 7\n",
            " 8 2 5 1 7 7 9 5 8 9 5 8 2 0 8 1 5 7 6 2 4 7 8 9 3 3 9 8 2 0 0 2 9 0 3 3 3\n",
            " 0 8 8 5 3 4 9 3 5 8 4 4 5 8 1 0 4 4 2 8 7 1 1 6 8 7 1 3 5 3 0 3 1 1 4 6 8\n",
            " 0 6 2 2 5 1 1 7 1 8 7 9 6 0 7 7 1 3 4 5 1 4 3 1 9 2 4 4 7 5 8 3 9 5 3 6 7\n",
            " 0 8 8 3 6 0 0 8 4 3 4 1 5 7 0 0 4 8 9 3 4 0 8 9 0 3 7 8 4 5 4 1 8 0 7 8 2\n",
            " 6 0 5 1 1 2 2 7 0 8 8 1 5 9 5 3 3 2 6 1 7 5 9 1 4 0 7 5 8 8 1 7 3 6 8 6 1\n",
            " 5 6 9 1 7 6 6 9 5 3 1 6 7 7 3 4 3 9 5 7 7 8 2 0 2 3 3 9 4 0 3 0 3 9 9 9 4\n",
            " 9 8 6 0 5 4 7 0 0 0 5 4 6 9 8 2 7 5 0 9 6 1 0 3 9 3 7 6 1 8 1 0 8 7 3 2 0\n",
            " 5 8 3 3 2 7 7 2 0 4 4 0 2 0 7 6 7 1 8 6 8 5 7 6 9 2 3 0 4 4 8 0 6 4 3 7 8\n",
            " 7 1 9 2 2 3 4 5 8 3 8 6 9 9 8 4 8 5 9 9 1 7 4 1 4 4 1 6 1 2 3 5 9 2 0 0 1\n",
            " 7 4 6 9 7 9 1 2 4 8 1 0 6 9 1 1 8 7 5 2 6 9 7 3 0 7 5 1 0 9 4 8 9 4 3 7 7\n",
            " 3 7 2 5 6 2 7 5 1 1 3 2 4 5 8 3 3 4 8 2 4 8 2 9 2 4 0 3 9 3 7 9 5 9 7 9 3\n",
            " 0 3 6 4 2 0 1 8 7 6 8 8 2 2 1 1 2 9 3 6 6 6 3 4 4 7 2 6 0 5 9 3 8 5 0 6 2\n",
            " 1 8 7 1 4 1 6 7 1 2 4 0 4 9 2 0 3 5 0 8 6 4 1 1 8 1 9 5 6 9 6 0 5 5 8 9 6\n",
            " 0 6 8 8 1 6 0 9 5 7 6 9 4 6 1 5 2 6 3 7 2 2 5 2 6 1 4 8 0 1 7 5 1 8 2 3 5\n",
            " 3 4 4 3 3 3 6 9 9 2 7 0 0 0 0 3 4 8 0 0 7 0 8 6 4 5 9 0 1 0 8 3 0 0 6 2 3\n",
            " 1]\n",
            "Accuracy:  0.603\n"
          ]
        }
      ],
      "source": [
        "# test accuracy\n",
        "\n",
        "_,_,_,a2 = forward_prop(w1,b1,w2,b2,X_test)\n",
        "predictions = get_predictions(a2)\n",
        "print(\"Accuracy: \",get_accuracy(predictions,Y_test))\n"
      ]
    },
    {
      "cell_type": "code",
      "execution_count": 44,
      "metadata": {
        "colab": {
          "base_uri": "https://localhost:8080/",
          "height": 465
        },
        "id": "kJlvXRXFzVWp",
        "outputId": "032e8149-0b98-4783-ce88-2380c05890dc"
      },
      "outputs": [
        {
          "name": "stdout",
          "output_type": "stream",
          "text": [
            "Prediction:  [7]\n",
            "Label:  9\n"
          ]
        },
        {
          "data": {
            "image/png": "[encoded data removed]",
            "text/plain": [
              "<Figure size 640x480 with 1 Axes>"
            ]
          },
          "metadata": {},
          "output_type": "display_data"
        }
      ],
      "source": [
        "show_training_predictions(111,X_train,Y_train,w1,b1,w2,b2)"
      ]
    }
  ],
  "metadata": {
    "colab": {
      "provenance": []
    },
    "kernelspec": {
      "display_name": "Python 3",
      "name": "python3"
    },
    "language_info": {
      "codemirror_mode": {
        "name": "ipython",
        "version": 3
      },
      "file_extension": ".py",
      "mimetype": "text/x-python",
      "name": "python",
      "nbconvert_exporter": "python",
      "pygments_lexer": "ipython3",
      "version": "3.10.11"
    }
  },
  "nbformat": 4,
  "nbformat_minor": 0
}
