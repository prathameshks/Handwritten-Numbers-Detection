{
  "cells": [
    {
      "cell_type": "code",
      "execution_count": 1,
      "metadata": {
        "id": "XYh1UU9jAoU_"
      },
      "outputs": [],
      "source": [
        "import pandas as pd\n",
        "import numpy as np\n",
        "import matplotlib.pyplot as plt"
      ]
    },
    {
      "cell_type": "code",
      "execution_count": 2,
      "metadata": {
        "id": "HseArtX4zVWk"
      },
      "outputs": [],
      "source": [
        "data = pd.read_csv('https://raw.githubusercontent.com/prathameshks/ML-From-Scratch/main/MNIST_DATA/train.csv')"
      ]
    },
    {
      "cell_type": "code",
      "execution_count": 3,
      "metadata": {
        "id": "HwsNYP07B-3U"
      },
      "outputs": [],
      "source": [
        "data = np.array(data)\n",
        "m, n = data.shape\n",
        "np.random.shuffle(data) # shuffle before splitting into dev and training sets\n",
        "\n",
        "data_dev = data[0:1000].T\n",
        "Y_dev = data_dev[0]\n",
        "X_dev = data_dev[1:n]\n",
        "X_dev = X_dev / 255.\n",
        "\n",
        "data_train = data[1000:m].T\n",
        "Y_train = data_train[0]\n",
        "X_train = data_train[1:n]\n",
        "X_train = X_train / 255.\n",
        "_,m_train = X_train.shape"
      ]
    },
    {
      "cell_type": "code",
      "execution_count": 4,
      "metadata": {
        "id": "T9WMPNO0B-3V",
        "outputId": "8df60871-2cb0-41d1-b0d7-1f1299016b18",
        "colab": {
          "base_uri": "https://localhost:8080/"
        }
      },
      "outputs": [
        {
          "output_type": "execute_result",
          "data": {
            "text/plain": [
              "array([3, 9, 1, ..., 0, 8, 4])"
            ]
          },
          "metadata": {},
          "execution_count": 4
        }
      ],
      "source": [
        "Y_train"
      ]
    },
    {
      "cell_type": "code",
      "execution_count": 5,
      "metadata": {
        "id": "4GcfznoVB-3X"
      },
      "outputs": [],
      "source": [
        "def init_params():\n",
        "    W1 = np.random.rand(10, 784) - 0.5\n",
        "    b1 = np.random.rand(10, 1) - 0.5\n",
        "    W2 = np.random.rand(10, 10) - 0.5\n",
        "    b2 = np.random.rand(10, 1) - 0.5\n",
        "    return W1, b1, W2, b2\n",
        "\n",
        "def ReLU(Z):\n",
        "    return np.maximum(Z, 0)\n",
        "\n",
        "def softmax(Z):\n",
        "    A = np.exp(Z) / sum(np.exp(Z))\n",
        "    return A\n",
        "\n",
        "def forward_prop(W1, b1, W2, b2, X):\n",
        "    Z1 = W1.dot(X) + b1\n",
        "    A1 = ReLU(Z1)\n",
        "    Z2 = W2.dot(A1) + b2\n",
        "    A2 = softmax(Z2)\n",
        "    return Z1, A1, Z2, A2\n",
        "\n",
        "def ReLU_deriv(Z):\n",
        "    return Z > 0\n",
        "\n",
        "def one_hot(Y):\n",
        "    one_hot_Y = np.zeros((Y.size, Y.max() + 1))\n",
        "    one_hot_Y[np.arange(Y.size), Y] = 1\n",
        "    one_hot_Y = one_hot_Y.T\n",
        "    return one_hot_Y\n",
        "\n",
        "def backward_prop(Z1, A1, Z2, A2, W1, W2, X, Y):\n",
        "    one_hot_Y = one_hot(Y)\n",
        "    dZ2 = A2 - one_hot_Y\n",
        "    dW2 = 1 / m * dZ2.dot(A1.T)\n",
        "    db2 = 1 / m * np.sum(dZ2)\n",
        "    dZ1 = W2.T.dot(dZ2) * ReLU_deriv(Z1)\n",
        "    dW1 = 1 / m * dZ1.dot(X.T)\n",
        "    db1 = 1 / m * np.sum(dZ1)\n",
        "    return dW1, db1, dW2, db2\n",
        "\n",
        "def update_params(W1, b1, W2, b2, dW1, db1, dW2, db2, alpha):\n",
        "    W1 = W1 - alpha * dW1\n",
        "    b1 = b1 - alpha * db1\n",
        "    W2 = W2 - alpha * dW2\n",
        "    b2 = b2 - alpha * db2\n",
        "    return W1, b1, W2, b2"
      ]
    },
    {
      "cell_type": "code",
      "execution_count": 6,
      "metadata": {
        "id": "sNqvG_PGB-3Y"
      },
      "outputs": [],
      "source": [
        "def get_predictions(A2):\n",
        "    return np.argmax(A2, 0)\n",
        "\n",
        "def get_accuracy(predictions, Y):\n",
        "    print(predictions, Y)\n",
        "    return np.sum(predictions == Y) / Y.size\n",
        "\n",
        "def gradient_descent(X, Y, alpha, iterations):\n",
        "    W1, b1, W2, b2 = init_params()\n",
        "    for i in range(iterations):\n",
        "        Z1, A1, Z2, A2 = forward_prop(W1, b1, W2, b2, X)\n",
        "        dW1, db1, dW2, db2 = backward_prop(Z1, A1, Z2, A2, W1, W2, X, Y)\n",
        "        W1, b1, W2, b2 = update_params(W1, b1, W2, b2, dW1, db1, dW2, db2, alpha)\n",
        "        if i % 10 == 0:\n",
        "            print(\"Iteration: \", i)\n",
        "            predictions = get_predictions(A2)\n",
        "            print(get_accuracy(predictions, Y))\n",
        "    return W1, b1, W2, b2"
      ]
    },
    {
      "cell_type": "code",
      "execution_count": 7,
      "metadata": {
        "id": "lI_e0w3oB-3Z",
        "outputId": "7dd87d11-a117-4479-d082-ce037c2606f6",
        "colab": {
          "base_uri": "https://localhost:8080/"
        }
      },
      "outputs": [
        {
          "output_type": "stream",
          "name": "stdout",
          "text": [
            "Iteration:  0\n",
            "[6 6 8 ... 2 6 5] [3 9 1 ... 0 8 4]\n",
            "0.10419512195121951\n",
            "Iteration:  10\n",
            "[2 2 8 ... 8 4 5] [3 9 1 ... 0 8 4]\n",
            "0.13795121951219513\n",
            "Iteration:  20\n",
            "[2 2 1 ... 2 4 4] [3 9 1 ... 0 8 4]\n",
            "0.18565853658536585\n",
            "Iteration:  30\n",
            "[2 4 1 ... 2 4 4] [3 9 1 ... 0 8 4]\n",
            "0.2508292682926829\n",
            "Iteration:  40\n",
            "[7 9 1 ... 2 4 4] [3 9 1 ... 0 8 4]\n",
            "0.31809756097560976\n",
            "Iteration:  50\n",
            "[7 9 1 ... 2 6 4] [3 9 1 ... 0 8 4]\n",
            "0.377390243902439\n",
            "Iteration:  60\n",
            "[7 9 1 ... 2 6 4] [3 9 1 ... 0 8 4]\n",
            "0.4241219512195122\n",
            "Iteration:  70\n",
            "[2 9 1 ... 0 6 4] [3 9 1 ... 0 8 4]\n",
            "0.46463414634146344\n",
            "Iteration:  80\n",
            "[2 9 1 ... 0 5 4] [3 9 1 ... 0 8 4]\n",
            "0.5035121951219512\n",
            "Iteration:  90\n",
            "[2 9 1 ... 0 5 4] [3 9 1 ... 0 8 4]\n",
            "0.5393658536585366\n",
            "Iteration:  100\n",
            "[8 9 1 ... 0 5 4] [3 9 1 ... 0 8 4]\n",
            "0.5711219512195121\n",
            "Iteration:  110\n",
            "[3 9 1 ... 0 5 4] [3 9 1 ... 0 8 4]\n",
            "0.6006829268292683\n",
            "Iteration:  120\n",
            "[3 9 1 ... 0 5 4] [3 9 1 ... 0 8 4]\n",
            "0.6252926829268293\n",
            "Iteration:  130\n",
            "[3 9 1 ... 0 5 4] [3 9 1 ... 0 8 4]\n",
            "0.6465853658536586\n",
            "Iteration:  140\n",
            "[3 9 1 ... 0 5 4] [3 9 1 ... 0 8 4]\n",
            "0.6650487804878049\n",
            "Iteration:  150\n",
            "[3 9 1 ... 0 5 4] [3 9 1 ... 0 8 4]\n",
            "0.6811707317073171\n",
            "Iteration:  160\n",
            "[3 9 1 ... 0 5 4] [3 9 1 ... 0 8 4]\n",
            "0.6940975609756097\n",
            "Iteration:  170\n",
            "[3 9 1 ... 0 5 4] [3 9 1 ... 0 8 4]\n",
            "0.7079024390243902\n",
            "Iteration:  180\n",
            "[3 9 1 ... 0 5 4] [3 9 1 ... 0 8 4]\n",
            "0.7189024390243902\n",
            "Iteration:  190\n",
            "[3 9 1 ... 0 5 4] [3 9 1 ... 0 8 4]\n",
            "0.7290487804878049\n",
            "Iteration:  200\n",
            "[3 9 1 ... 0 5 4] [3 9 1 ... 0 8 4]\n",
            "0.7379512195121951\n",
            "Iteration:  210\n",
            "[3 9 1 ... 0 5 4] [3 9 1 ... 0 8 4]\n",
            "0.7460731707317073\n",
            "Iteration:  220\n",
            "[3 9 1 ... 0 5 4] [3 9 1 ... 0 8 4]\n",
            "0.753390243902439\n",
            "Iteration:  230\n",
            "[3 9 1 ... 0 5 4] [3 9 1 ... 0 8 4]\n",
            "0.7600731707317073\n",
            "Iteration:  240\n",
            "[3 9 1 ... 0 5 4] [3 9 1 ... 0 8 4]\n",
            "0.7657073170731707\n",
            "Iteration:  250\n",
            "[3 9 1 ... 0 5 4] [3 9 1 ... 0 8 4]\n",
            "0.7706829268292683\n",
            "Iteration:  260\n",
            "[3 9 1 ... 0 5 4] [3 9 1 ... 0 8 4]\n",
            "0.7760243902439025\n",
            "Iteration:  270\n",
            "[3 9 1 ... 0 5 4] [3 9 1 ... 0 8 4]\n",
            "0.7811707317073171\n",
            "Iteration:  280\n",
            "[3 9 1 ... 0 5 4] [3 9 1 ... 0 8 4]\n",
            "0.7855365853658537\n",
            "Iteration:  290\n",
            "[3 9 1 ... 0 5 4] [3 9 1 ... 0 8 4]\n",
            "0.7899268292682927\n",
            "Iteration:  300\n",
            "[3 9 1 ... 0 5 4] [3 9 1 ... 0 8 4]\n",
            "0.7942682926829269\n",
            "Iteration:  310\n",
            "[3 9 1 ... 0 5 4] [3 9 1 ... 0 8 4]\n",
            "0.7988048780487805\n",
            "Iteration:  320\n",
            "[3 9 1 ... 0 5 4] [3 9 1 ... 0 8 4]\n",
            "0.8023902439024391\n",
            "Iteration:  330\n",
            "[3 9 1 ... 0 8 4] [3 9 1 ... 0 8 4]\n",
            "0.8059756097560976\n",
            "Iteration:  340\n",
            "[3 9 1 ... 0 8 4] [3 9 1 ... 0 8 4]\n",
            "0.8089756097560976\n",
            "Iteration:  350\n",
            "[3 9 1 ... 0 8 4] [3 9 1 ... 0 8 4]\n",
            "0.812\n",
            "Iteration:  360\n",
            "[3 9 1 ... 0 8 4] [3 9 1 ... 0 8 4]\n",
            "0.8145365853658536\n",
            "Iteration:  370\n",
            "[3 9 1 ... 0 8 4] [3 9 1 ... 0 8 4]\n",
            "0.8171951219512195\n",
            "Iteration:  380\n",
            "[3 9 1 ... 0 8 4] [3 9 1 ... 0 8 4]\n",
            "0.8190975609756097\n",
            "Iteration:  390\n",
            "[3 9 1 ... 0 8 4] [3 9 1 ... 0 8 4]\n",
            "0.8213414634146341\n",
            "Iteration:  400\n",
            "[3 9 1 ... 0 8 4] [3 9 1 ... 0 8 4]\n",
            "0.823780487804878\n",
            "Iteration:  410\n",
            "[3 9 1 ... 0 8 4] [3 9 1 ... 0 8 4]\n",
            "0.8258292682926829\n",
            "Iteration:  420\n",
            "[3 9 1 ... 0 8 4] [3 9 1 ... 0 8 4]\n",
            "0.8281463414634146\n",
            "Iteration:  430\n",
            "[3 9 1 ... 0 8 4] [3 9 1 ... 0 8 4]\n",
            "0.8297317073170731\n",
            "Iteration:  440\n",
            "[3 9 1 ... 0 8 4] [3 9 1 ... 0 8 4]\n",
            "0.8311463414634146\n",
            "Iteration:  450\n",
            "[3 9 1 ... 0 8 4] [3 9 1 ... 0 8 4]\n",
            "0.8324146341463414\n",
            "Iteration:  460\n",
            "[3 9 1 ... 0 8 4] [3 9 1 ... 0 8 4]\n",
            "0.8339024390243902\n",
            "Iteration:  470\n",
            "[3 9 1 ... 0 8 4] [3 9 1 ... 0 8 4]\n",
            "0.8356585365853658\n",
            "Iteration:  480\n",
            "[3 9 1 ... 0 8 4] [3 9 1 ... 0 8 4]\n",
            "0.8368780487804878\n",
            "Iteration:  490\n",
            "[3 9 1 ... 0 8 4] [3 9 1 ... 0 8 4]\n",
            "0.8381463414634146\n"
          ]
        }
      ],
      "source": [
        "W1, b1, W2, b2 = gradient_descent(X_train, Y_train, 0.10, 500)"
      ]
    },
    {
      "cell_type": "code",
      "execution_count": 8,
      "metadata": {
        "id": "em4wVt5SB-3Z"
      },
      "outputs": [],
      "source": [
        "def make_predictions(X, W1, b1, W2, b2):\n",
        "    _, _, _, A2 = forward_prop(W1, b1, W2, b2, X)\n",
        "    predictions = get_predictions(A2)\n",
        "    return predictions\n",
        "\n",
        "def test_prediction(index, W1, b1, W2, b2):\n",
        "    current_image = X_train[:, index, None]\n",
        "    prediction = make_predictions(X_train[:, index, None], W1, b1, W2, b2)\n",
        "    label = Y_train[index]\n",
        "    print(\"Prediction: \", prediction)\n",
        "    print(\"Label: \", label)\n",
        "\n",
        "    current_image = current_image.reshape((28, 28)) * 255\n",
        "    plt.gray()\n",
        "    plt.imshow(current_image, interpolation='nearest')\n",
        "    plt.show()"
      ]
    },
    {
      "cell_type": "code",
      "execution_count": 9,
      "metadata": {
        "id": "2Cx4Ay1hB-3a",
        "outputId": "28d125b0-9c76-44fc-ac2d-50ee59147dca",
        "colab": {
          "base_uri": "https://localhost:8080/",
          "height": 1000
        }
      },
      "outputs": [
        {
          "output_type": "stream",
          "name": "stdout",
          "text": [
            "Prediction:  [3]\n",
            "Label:  3\n"
          ]
        },
        {
          "output_type": "display_data",
          "data": {
            "text/plain": [
              "<Figure size 640x480 with 1 Axes>"
            ],
            "image/png": "[encoded data removed]"
          },
          "metadata": {}
        },
        {
          "output_type": "stream",
          "name": "stdout",
          "text": [
            "Prediction:  [9]\n",
            "Label:  9\n"
          ]
        },
        {
          "output_type": "display_data",
          "data": {
            "text/plain": [
              "<Figure size 640x480 with 1 Axes>"
            ],
            "image/png": "[encoded data removed]"
          },
          "metadata": {}
        },
        {
          "output_type": "stream",
          "name": "stdout",
          "text": [
            "Prediction:  [1]\n",
            "Label:  1\n"
          ]
        },
        {
          "output_type": "display_data",
          "data": {
            "text/plain": [
              "<Figure size 640x480 with 1 Axes>"
            ],
            "image/png": "[encoded data removed]"
          },
          "metadata": {}
        },
        {
          "output_type": "stream",
          "name": "stdout",
          "text": [
            "Prediction:  [2]\n",
            "Label:  2\n"
          ]
        },
        {
          "output_type": "display_data",
          "data": {
            "text/plain": [
              "<Figure size 640x480 with 1 Axes>"
            ],
            "image/png": "[encoded data removed]"
          },
          "metadata": {}
        }
      ],
      "source": [
        "test_prediction(0, W1, b1, W2, b2)\n",
        "test_prediction(1, W1, b1, W2, b2)\n",
        "test_prediction(2, W1, b1, W2, b2)\n",
        "test_prediction(3, W1, b1, W2, b2)"
      ]
    },
    {
      "cell_type": "code",
      "execution_count": 10,
      "metadata": {
        "id": "w8ti962mB-3b",
        "outputId": "ea7f7d31-78f0-4384-eb3c-9259afbafc4f",
        "colab": {
          "base_uri": "https://localhost:8080/"
        }
      },
      "outputs": [
        {
          "output_type": "stream",
          "name": "stdout",
          "text": [
            "[5 6 6 8 2 4 3 7 5 1 1 6 9 3 9 9 8 8 0 5 2 6 8 6 2 0 9 6 4 3 0 1 8 9 4 6 8\n",
            " 9 0 3 3 1 7 5 0 6 4 3 4 1 4 7 1 1 2 3 5 8 0 1 8 2 8 9 6 9 8 2 1 9 1 2 7 0\n",
            " 6 8 1 2 5 9 8 0 7 1 3 7 7 3 6 3 2 0 0 0 9 0 1 7 4 3 2 9 5 4 6 1 3 8 0 0 7\n",
            " 8 9 6 9 4 1 1 0 6 9 5 8 8 1 6 3 0 7 7 8 2 0 2 4 7 3 7 5 9 7 8 6 9 8 3 2 1\n",
            " 9 4 2 6 6 0 8 8 6 9 0 1 9 3 5 5 8 2 5 7 4 8 6 4 1 7 8 1 1 4 0 0 6 3 2 5 4\n",
            " 4 1 2 2 6 6 5 0 9 5 7 5 3 5 7 5 4 8 0 4 6 5 9 3 4 4 6 7 6 9 7 0 2 2 3 9 1\n",
            " 5 3 4 2 8 4 8 7 9 5 9 3 2 4 4 3 0 2 8 7 8 8 6 5 6 6 4 7 3 5 4 1 3 2 2 4 4\n",
            " 4 9 4 1 5 9 6 7 3 6 9 4 3 1 0 0 9 0 1 2 7 9 7 6 6 1 2 7 7 9 3 1 5 6 4 5 6\n",
            " 1 7 5 9 7 0 3 0 4 2 3 2 2 6 0 0 1 4 0 4 7 2 9 7 3 7 5 6 3 6 2 4 1 4 9 8 3\n",
            " 3 0 8 0 4 4 1 1 2 6 8 8 4 3 6 9 2 3 2 6 1 0 0 8 5 5 3 9 3 8 4 4 6 5 0 2 1\n",
            " 0 6 6 2 7 4 9 8 5 1 5 4 9 9 0 5 9 7 4 0 2 7 8 2 0 2 2 4 0 3 2 2 0 0 9 9 2\n",
            " 2 5 2 0 5 0 1 5 2 0 1 0 6 6 8 0 5 7 6 1 8 6 0 0 3 0 5 2 2 6 2 8 3 8 2 2 4\n",
            " 1 1 1 0 9 3 6 6 4 5 3 6 0 8 1 9 9 8 3 5 1 4 9 3 5 6 3 0 8 0 2 9 6 3 7 0 8\n",
            " 2 5 7 4 3 5 1 0 4 9 4 0 9 9 0 2 4 2 6 4 4 7 9 8 6 3 0 5 8 8 8 6 5 8 0 0 7\n",
            " 9 0 2 0 1 4 9 5 3 1 6 2 6 0 6 0 0 7 7 0 2 2 2 1 5 1 9 4 5 2 3 4 7 2 0 9 9\n",
            " 2 4 2 2 1 9 4 6 4 9 8 2 5 1 1 0 7 7 7 2 7 1 3 6 1 5 7 2 4 4 4 7 1 8 3 7 9\n",
            " 2 7 4 6 1 8 1 5 1 6 4 9 8 7 3 4 4 8 6 8 9 1 3 6 3 9 0 1 1 4 0 6 8 1 8 1 7\n",
            " 2 7 5 0 7 8 1 0 9 8 1 1 5 4 7 4 8 6 3 5 0 6 6 5 7 0 4 4 5 8 0 2 3 7 3 4 6\n",
            " 3 0 1 8 1 3 5 9 6 7 6 4 8 4 0 5 2 5 5 9 2 8 7 2 2 0 2 3 7 2 4 0 4 3 4 1 2\n",
            " 1 3 9 5 2 7 5 3 0 1 8 9 1 0 6 3 8 2 5 9 7 3 6 5 4 0 2 4 0 2 4 4 3 7 2 4 5\n",
            " 7 7 1 4 9 9 9 0 3 7 4 5 6 5 7 6 7 3 0 4 6 5 3 8 5 0 2 1 0 9 9 9 2 9 7 1 1\n",
            " 0 7 5 1 9 3 9 1 2 7 9 4 7 9 2 4 1 5 3 6 4 5 6 4 0 4 2 7 0 8 8 3 8 9 8 2 2\n",
            " 8 6 6 7 7 8 1 1 9 4 6 8 5 5 9 4 5 5 0 8 3 7 4 9 5 3 9 7 4 4 7 3 2 9 4 9 5\n",
            " 6 8 7 7 1 8 4 3 2 5 9 0 7 5 9 1 8 0 0 4 3 1 9 0 9 6 0 5 6 2 5 1 2 9 6 5 6\n",
            " 8 1 8 1 3 9 6 3 6 0 7 0 2 6 8 7 2 9 7 2 3 3 7 4 7 8 9 8 1 0 1 9 5 3 1 6 3\n",
            " 5 7 3 2 1 5 4 8 8 0 3 0 4 3 9 0 9 1 6 2 1 2 2 4 7 3 3 1 2 1 2 0 6 0 6 2 1\n",
            " 5 4 3 0 8 5 1 9 3 6 5 8 8 3 3 1 4 8 8 4 5 9 1 4 2 0 6 0 9 7 2 2 0 3 9 4 6\n",
            " 7] [5 6 6 8 3 9 3 9 5 1 1 6 9 5 9 4 8 8 0 8 2 6 8 6 2 0 9 6 4 3 0 1 8 8 4 6 8\n",
            " 4 0 3 5 1 7 5 0 6 4 3 4 1 2 7 1 1 2 3 5 8 0 1 8 2 8 9 6 7 8 2 1 9 1 2 7 6\n",
            " 6 8 3 8 5 9 8 0 7 1 3 7 7 3 6 5 2 0 0 0 9 0 1 7 4 3 2 9 5 4 6 1 3 8 0 0 9\n",
            " 8 9 6 9 4 5 1 0 6 8 5 8 8 1 6 3 0 7 7 1 2 0 2 4 7 3 7 5 4 7 8 6 9 8 3 2 1\n",
            " 9 4 6 6 6 0 9 3 6 9 0 1 9 3 5 0 8 2 5 7 4 2 6 4 1 7 2 1 1 4 0 0 6 2 1 2 2\n",
            " 6 1 2 2 5 6 5 0 9 3 7 5 3 5 7 5 4 8 0 4 6 5 4 3 4 4 2 7 6 9 7 0 2 2 3 9 7\n",
            " 5 5 4 2 8 4 8 7 9 5 9 3 2 4 4 3 0 2 8 7 8 8 6 5 2 6 4 7 3 5 4 1 3 5 2 4 4\n",
            " 9 9 9 1 3 4 6 7 3 6 4 4 3 1 0 0 9 0 1 2 7 9 7 6 6 1 2 7 7 9 3 1 0 6 4 5 6\n",
            " 1 7 5 4 8 0 2 0 4 2 3 2 2 6 0 0 1 4 0 4 7 2 9 7 3 7 5 6 5 6 2 4 1 4 4 8 3\n",
            " 3 0 8 0 4 4 1 1 2 6 8 8 4 3 6 9 2 3 2 6 1 0 0 8 5 8 3 7 0 3 4 4 6 5 7 2 6\n",
            " 0 6 6 2 7 4 9 8 5 1 3 4 9 9 0 5 9 6 4 0 2 7 7 6 0 2 2 4 0 2 2 2 5 0 9 9 0\n",
            " 2 5 2 0 4 0 4 5 2 0 1 0 6 5 1 0 5 7 6 1 8 6 0 0 3 0 3 2 2 6 3 8 3 8 2 3 4\n",
            " 1 1 1 2 9 9 6 6 4 5 5 6 0 8 1 9 4 8 3 5 1 4 9 3 5 2 3 0 5 0 2 9 6 3 7 0 8\n",
            " 2 5 7 4 3 5 1 0 4 9 4 0 9 4 0 2 4 2 6 4 4 7 8 8 6 3 0 5 8 8 8 6 5 5 0 0 7\n",
            " 7 0 2 0 1 4 9 5 2 1 6 2 6 0 6 0 0 9 7 0 2 6 2 1 5 1 9 4 5 2 3 4 7 2 0 9 7\n",
            " 2 9 6 2 1 9 4 6 9 9 8 2 5 1 1 0 7 7 7 2 9 1 3 6 1 5 9 3 4 4 4 7 1 8 8 7 9\n",
            " 2 7 4 8 1 8 1 5 1 6 4 9 8 3 5 4 4 8 6 5 9 3 3 6 3 9 0 1 1 4 0 6 9 1 8 1 7\n",
            " 2 7 5 0 9 8 1 0 9 8 1 1 5 4 7 2 8 6 3 5 0 6 6 8 7 0 4 4 8 8 0 2 9 7 3 4 6\n",
            " 3 0 1 8 1 3 5 9 6 7 6 4 8 1 0 5 2 5 4 9 2 4 7 2 2 0 2 3 3 2 4 0 4 3 4 1 2\n",
            " 1 3 9 8 2 7 5 3 0 1 8 5 1 0 6 3 5 2 5 9 7 3 6 5 4 0 0 4 0 2 4 4 3 7 2 9 5\n",
            " 7 7 1 9 9 9 3 0 3 7 6 5 6 5 7 6 7 3 0 4 6 5 3 8 5 0 7 1 0 9 9 9 2 9 8 1 1\n",
            " 0 7 8 1 9 3 9 1 6 7 9 4 7 9 2 7 1 5 3 6 4 7 6 4 5 4 6 7 0 8 8 3 2 9 5 8 2\n",
            " 8 6 6 7 7 8 1 1 7 4 6 8 5 5 8 4 5 5 0 6 3 7 4 9 4 3 9 7 4 4 7 3 5 9 4 9 5\n",
            " 6 8 7 7 1 8 4 3 2 5 9 0 7 5 9 8 8 0 0 4 3 1 7 0 9 0 0 5 4 9 6 1 2 7 6 8 6\n",
            " 8 1 8 1 2 9 6 3 6 9 7 0 2 8 8 7 6 9 7 2 3 3 7 4 7 8 5 5 1 0 5 8 5 3 1 6 3\n",
            " 3 7 5 9 1 3 4 4 8 0 5 0 4 8 9 0 7 2 6 2 1 9 2 9 7 5 3 1 4 8 2 0 6 0 5 2 1\n",
            " 3 4 3 0 8 5 1 9 5 2 5 8 9 3 3 1 4 2 8 4 5 9 1 2 2 2 6 0 9 7 2 2 0 3 9 4 6\n",
            " 7]\n"
          ]
        },
        {
          "output_type": "execute_result",
          "data": {
            "text/plain": [
              "0.832"
            ]
          },
          "metadata": {},
          "execution_count": 10
        }
      ],
      "source": [
        "dev_predictions = make_predictions(X_dev, W1, b1, W2, b2)\n",
        "get_accuracy(dev_predictions, Y_dev)"
      ]
    },
    {
      "cell_type": "code",
      "source": [
        "# save model\n",
        "import pickle\n",
        "model = (W1, b1, W2, b2)\n",
        "with open('model.pkl', 'wb') as f:\n",
        "    pickle.dump(model, f)"
      ],
      "metadata": {
        "id": "yK4MDxKXCrts"
      },
      "execution_count": 11,
      "outputs": []
    },
    {
      "cell_type": "code",
      "source": [
        "# load model\n",
        "with open('model.pkl', 'rb') as f:\n",
        "    model = pickle.load(f)\n",
        "    W1, b1, W2, b2 = model\n",
        ""
      ],
      "metadata": {
        "id": "uAUCUYtqC0ho"
      },
      "execution_count": null,
      "outputs": []
    }
  ],
  "metadata": {
    "colab": {
      "provenance": []
    },
    "kernelspec": {
      "display_name": "Python 3",
      "name": "python3"
    },
    "language_info": {
      "codemirror_mode": {
        "name": "ipython",
        "version": 3
      },
      "file_extension": ".py",
      "mimetype": "text/x-python",
      "name": "python",
      "nbconvert_exporter": "python",
      "pygments_lexer": "ipython3",
      "version": "3.10.11"
    }
  },
  "nbformat": 4,
  "nbformat_minor": 0
}